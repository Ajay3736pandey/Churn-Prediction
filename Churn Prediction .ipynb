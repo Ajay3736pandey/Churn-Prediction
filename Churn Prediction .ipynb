{
 "cells": [
  {
   "cell_type": "markdown",
   "id": "caf830f7",
   "metadata": {},
   "source": [
    "## Importing the necessary Libraries "
   ]
  },
  {
   "cell_type": "code",
   "execution_count": 1,
   "id": "6bc31d13",
   "metadata": {},
   "outputs": [],
   "source": [
    "import pandas as pd\n",
    "import numpy as np \n",
    "import matplotlib.pyplot as plt\n",
    "import seaborn as sns\n",
    "from sklearn.preprocessing import LabelEncoder , OneHotEncoder\n",
    "from sklearn.ensemble import RandomForestClassifier \n",
    "from imblearn.over_sampling import RandomOverSampler\n",
    "from sklearn.ensemble import RandomForestClassifier \n",
    "from sklearn.metrics import classification_report\n",
    "from sklearn.metrics import accuracy_score, confusion_matrix\n",
    "from sklearn.model_selection import train_test_split, cross_val_score"
   ]
  },
  {
   "cell_type": "code",
   "execution_count": 2,
   "id": "7177451f",
   "metadata": {},
   "outputs": [
    {
     "data": {
      "text/html": [
       "<div>\n",
       "<style scoped>\n",
       "    .dataframe tbody tr th:only-of-type {\n",
       "        vertical-align: middle;\n",
       "    }\n",
       "\n",
       "    .dataframe tbody tr th {\n",
       "        vertical-align: top;\n",
       "    }\n",
       "\n",
       "    .dataframe thead th {\n",
       "        text-align: right;\n",
       "    }\n",
       "</style>\n",
       "<table border=\"1\" class=\"dataframe\">\n",
       "  <thead>\n",
       "    <tr style=\"text-align: right;\">\n",
       "      <th></th>\n",
       "      <th>voice.messages</th>\n",
       "      <th>intl.mins</th>\n",
       "      <th>intl.calls</th>\n",
       "      <th>intl.charge</th>\n",
       "      <th>day.mins</th>\n",
       "      <th>day.calls</th>\n",
       "      <th>day.charge</th>\n",
       "      <th>eve.mins</th>\n",
       "      <th>eve.calls</th>\n",
       "      <th>eve.charge</th>\n",
       "      <th>night.mins</th>\n",
       "      <th>night.calls</th>\n",
       "      <th>night.charge</th>\n",
       "      <th>customer.calls</th>\n",
       "      <th>churn</th>\n",
       "      <th>voice.plan</th>\n",
       "      <th>intl.plan</th>\n",
       "    </tr>\n",
       "  </thead>\n",
       "  <tbody>\n",
       "    <tr>\n",
       "      <th>0</th>\n",
       "      <td>25</td>\n",
       "      <td>10.0</td>\n",
       "      <td>3</td>\n",
       "      <td>2.70</td>\n",
       "      <td>265.1</td>\n",
       "      <td>110</td>\n",
       "      <td>45.07</td>\n",
       "      <td>197.4</td>\n",
       "      <td>99</td>\n",
       "      <td>16.78</td>\n",
       "      <td>244.7</td>\n",
       "      <td>91</td>\n",
       "      <td>11.01</td>\n",
       "      <td>1</td>\n",
       "      <td>0</td>\n",
       "      <td>1</td>\n",
       "      <td>0</td>\n",
       "    </tr>\n",
       "    <tr>\n",
       "      <th>1</th>\n",
       "      <td>26</td>\n",
       "      <td>13.7</td>\n",
       "      <td>3</td>\n",
       "      <td>3.70</td>\n",
       "      <td>161.6</td>\n",
       "      <td>123</td>\n",
       "      <td>27.47</td>\n",
       "      <td>195.5</td>\n",
       "      <td>103</td>\n",
       "      <td>16.62</td>\n",
       "      <td>254.4</td>\n",
       "      <td>103</td>\n",
       "      <td>11.45</td>\n",
       "      <td>1</td>\n",
       "      <td>0</td>\n",
       "      <td>1</td>\n",
       "      <td>0</td>\n",
       "    </tr>\n",
       "    <tr>\n",
       "      <th>2</th>\n",
       "      <td>0</td>\n",
       "      <td>12.2</td>\n",
       "      <td>5</td>\n",
       "      <td>3.29</td>\n",
       "      <td>243.4</td>\n",
       "      <td>114</td>\n",
       "      <td>41.38</td>\n",
       "      <td>121.2</td>\n",
       "      <td>110</td>\n",
       "      <td>10.30</td>\n",
       "      <td>162.6</td>\n",
       "      <td>104</td>\n",
       "      <td>7.32</td>\n",
       "      <td>0</td>\n",
       "      <td>0</td>\n",
       "      <td>0</td>\n",
       "      <td>0</td>\n",
       "    </tr>\n",
       "    <tr>\n",
       "      <th>3</th>\n",
       "      <td>0</td>\n",
       "      <td>6.6</td>\n",
       "      <td>7</td>\n",
       "      <td>1.78</td>\n",
       "      <td>299.4</td>\n",
       "      <td>71</td>\n",
       "      <td>50.90</td>\n",
       "      <td>61.9</td>\n",
       "      <td>88</td>\n",
       "      <td>5.26</td>\n",
       "      <td>196.9</td>\n",
       "      <td>89</td>\n",
       "      <td>8.86</td>\n",
       "      <td>2</td>\n",
       "      <td>0</td>\n",
       "      <td>0</td>\n",
       "      <td>1</td>\n",
       "    </tr>\n",
       "    <tr>\n",
       "      <th>4</th>\n",
       "      <td>0</td>\n",
       "      <td>10.1</td>\n",
       "      <td>3</td>\n",
       "      <td>2.73</td>\n",
       "      <td>166.7</td>\n",
       "      <td>113</td>\n",
       "      <td>28.34</td>\n",
       "      <td>148.3</td>\n",
       "      <td>122</td>\n",
       "      <td>12.61</td>\n",
       "      <td>186.9</td>\n",
       "      <td>121</td>\n",
       "      <td>8.41</td>\n",
       "      <td>3</td>\n",
       "      <td>0</td>\n",
       "      <td>0</td>\n",
       "      <td>1</td>\n",
       "    </tr>\n",
       "  </tbody>\n",
       "</table>\n",
       "</div>"
      ],
      "text/plain": [
       "   voice.messages  intl.mins  intl.calls  intl.charge  day.mins  day.calls  \\\n",
       "0              25       10.0           3         2.70     265.1        110   \n",
       "1              26       13.7           3         3.70     161.6        123   \n",
       "2               0       12.2           5         3.29     243.4        114   \n",
       "3               0        6.6           7         1.78     299.4         71   \n",
       "4               0       10.1           3         2.73     166.7        113   \n",
       "\n",
       "   day.charge  eve.mins  eve.calls  eve.charge  night.mins  night.calls  \\\n",
       "0       45.07     197.4         99       16.78       244.7           91   \n",
       "1       27.47     195.5        103       16.62       254.4          103   \n",
       "2       41.38     121.2        110       10.30       162.6          104   \n",
       "3       50.90      61.9         88        5.26       196.9           89   \n",
       "4       28.34     148.3        122       12.61       186.9          121   \n",
       "\n",
       "   night.charge  customer.calls  churn  voice.plan  intl.plan  \n",
       "0         11.01               1      0           1          0  \n",
       "1         11.45               1      0           1          0  \n",
       "2          7.32               0      0           0          0  \n",
       "3          8.86               2      0           0          1  \n",
       "4          8.41               3      0           0          1  "
      ]
     },
     "execution_count": 2,
     "metadata": {},
     "output_type": "execute_result"
    }
   ],
   "source": [
    "# Reading the dataset \n",
    "df=pd.read_csv('FinalChurn.csv')\n",
    "df.head()"
   ]
  },
  {
   "cell_type": "code",
   "execution_count": 3,
   "id": "76806681",
   "metadata": {},
   "outputs": [
    {
     "data": {
      "text/plain": [
       "(5000, 17)"
      ]
     },
     "execution_count": 3,
     "metadata": {},
     "output_type": "execute_result"
    }
   ],
   "source": [
    "df.shape"
   ]
  },
  {
   "cell_type": "code",
   "execution_count": 4,
   "id": "fb03e4d7",
   "metadata": {},
   "outputs": [
    {
     "data": {
      "text/html": [
       "<div>\n",
       "<style scoped>\n",
       "    .dataframe tbody tr th:only-of-type {\n",
       "        vertical-align: middle;\n",
       "    }\n",
       "\n",
       "    .dataframe tbody tr th {\n",
       "        vertical-align: top;\n",
       "    }\n",
       "\n",
       "    .dataframe thead th {\n",
       "        text-align: right;\n",
       "    }\n",
       "</style>\n",
       "<table border=\"1\" class=\"dataframe\">\n",
       "  <thead>\n",
       "    <tr style=\"text-align: right;\">\n",
       "      <th></th>\n",
       "      <th>count</th>\n",
       "      <th>mean</th>\n",
       "      <th>std</th>\n",
       "      <th>min</th>\n",
       "      <th>25%</th>\n",
       "      <th>50%</th>\n",
       "      <th>75%</th>\n",
       "      <th>max</th>\n",
       "    </tr>\n",
       "  </thead>\n",
       "  <tbody>\n",
       "    <tr>\n",
       "      <th>voice.messages</th>\n",
       "      <td>5000.0</td>\n",
       "      <td>7.755200</td>\n",
       "      <td>13.546393</td>\n",
       "      <td>0.0</td>\n",
       "      <td>0.00</td>\n",
       "      <td>0.000</td>\n",
       "      <td>17.00</td>\n",
       "      <td>52.00</td>\n",
       "    </tr>\n",
       "    <tr>\n",
       "      <th>intl.mins</th>\n",
       "      <td>5000.0</td>\n",
       "      <td>10.261780</td>\n",
       "      <td>2.761396</td>\n",
       "      <td>0.0</td>\n",
       "      <td>8.50</td>\n",
       "      <td>10.300</td>\n",
       "      <td>12.00</td>\n",
       "      <td>20.00</td>\n",
       "    </tr>\n",
       "    <tr>\n",
       "      <th>intl.calls</th>\n",
       "      <td>5000.0</td>\n",
       "      <td>4.435200</td>\n",
       "      <td>2.456788</td>\n",
       "      <td>0.0</td>\n",
       "      <td>3.00</td>\n",
       "      <td>4.000</td>\n",
       "      <td>6.00</td>\n",
       "      <td>20.00</td>\n",
       "    </tr>\n",
       "    <tr>\n",
       "      <th>intl.charge</th>\n",
       "      <td>5000.0</td>\n",
       "      <td>2.771196</td>\n",
       "      <td>0.745514</td>\n",
       "      <td>0.0</td>\n",
       "      <td>2.30</td>\n",
       "      <td>2.780</td>\n",
       "      <td>3.24</td>\n",
       "      <td>5.40</td>\n",
       "    </tr>\n",
       "    <tr>\n",
       "      <th>day.mins</th>\n",
       "      <td>5000.0</td>\n",
       "      <td>180.288900</td>\n",
       "      <td>53.894699</td>\n",
       "      <td>0.0</td>\n",
       "      <td>143.70</td>\n",
       "      <td>180.100</td>\n",
       "      <td>216.20</td>\n",
       "      <td>351.50</td>\n",
       "    </tr>\n",
       "    <tr>\n",
       "      <th>day.calls</th>\n",
       "      <td>5000.0</td>\n",
       "      <td>100.029400</td>\n",
       "      <td>19.831197</td>\n",
       "      <td>0.0</td>\n",
       "      <td>87.00</td>\n",
       "      <td>100.000</td>\n",
       "      <td>113.00</td>\n",
       "      <td>165.00</td>\n",
       "    </tr>\n",
       "    <tr>\n",
       "      <th>day.charge</th>\n",
       "      <td>5000.0</td>\n",
       "      <td>30.653501</td>\n",
       "      <td>9.159936</td>\n",
       "      <td>0.0</td>\n",
       "      <td>24.43</td>\n",
       "      <td>30.625</td>\n",
       "      <td>36.75</td>\n",
       "      <td>59.76</td>\n",
       "    </tr>\n",
       "    <tr>\n",
       "      <th>eve.mins</th>\n",
       "      <td>5000.0</td>\n",
       "      <td>200.580326</td>\n",
       "      <td>50.433135</td>\n",
       "      <td>0.0</td>\n",
       "      <td>166.60</td>\n",
       "      <td>200.800</td>\n",
       "      <td>233.90</td>\n",
       "      <td>363.70</td>\n",
       "    </tr>\n",
       "    <tr>\n",
       "      <th>eve.calls</th>\n",
       "      <td>5000.0</td>\n",
       "      <td>100.191000</td>\n",
       "      <td>19.826496</td>\n",
       "      <td>0.0</td>\n",
       "      <td>87.00</td>\n",
       "      <td>100.000</td>\n",
       "      <td>114.00</td>\n",
       "      <td>170.00</td>\n",
       "    </tr>\n",
       "    <tr>\n",
       "      <th>eve.charge</th>\n",
       "      <td>5000.0</td>\n",
       "      <td>17.054322</td>\n",
       "      <td>4.296843</td>\n",
       "      <td>0.0</td>\n",
       "      <td>14.14</td>\n",
       "      <td>17.090</td>\n",
       "      <td>19.90</td>\n",
       "      <td>30.91</td>\n",
       "    </tr>\n",
       "    <tr>\n",
       "      <th>night.mins</th>\n",
       "      <td>5000.0</td>\n",
       "      <td>200.391620</td>\n",
       "      <td>50.527789</td>\n",
       "      <td>0.0</td>\n",
       "      <td>166.90</td>\n",
       "      <td>200.400</td>\n",
       "      <td>234.70</td>\n",
       "      <td>395.00</td>\n",
       "    </tr>\n",
       "    <tr>\n",
       "      <th>night.calls</th>\n",
       "      <td>5000.0</td>\n",
       "      <td>99.919200</td>\n",
       "      <td>19.958686</td>\n",
       "      <td>0.0</td>\n",
       "      <td>87.00</td>\n",
       "      <td>100.000</td>\n",
       "      <td>113.00</td>\n",
       "      <td>175.00</td>\n",
       "    </tr>\n",
       "    <tr>\n",
       "      <th>night.charge</th>\n",
       "      <td>5000.0</td>\n",
       "      <td>9.017732</td>\n",
       "      <td>2.273763</td>\n",
       "      <td>0.0</td>\n",
       "      <td>7.51</td>\n",
       "      <td>9.020</td>\n",
       "      <td>10.56</td>\n",
       "      <td>17.77</td>\n",
       "    </tr>\n",
       "    <tr>\n",
       "      <th>customer.calls</th>\n",
       "      <td>5000.0</td>\n",
       "      <td>1.570400</td>\n",
       "      <td>1.306363</td>\n",
       "      <td>0.0</td>\n",
       "      <td>1.00</td>\n",
       "      <td>1.000</td>\n",
       "      <td>2.00</td>\n",
       "      <td>9.00</td>\n",
       "    </tr>\n",
       "    <tr>\n",
       "      <th>churn</th>\n",
       "      <td>5000.0</td>\n",
       "      <td>0.141400</td>\n",
       "      <td>0.348469</td>\n",
       "      <td>0.0</td>\n",
       "      <td>0.00</td>\n",
       "      <td>0.000</td>\n",
       "      <td>0.00</td>\n",
       "      <td>1.00</td>\n",
       "    </tr>\n",
       "    <tr>\n",
       "      <th>voice.plan</th>\n",
       "      <td>5000.0</td>\n",
       "      <td>0.264600</td>\n",
       "      <td>0.441164</td>\n",
       "      <td>0.0</td>\n",
       "      <td>0.00</td>\n",
       "      <td>0.000</td>\n",
       "      <td>1.00</td>\n",
       "      <td>1.00</td>\n",
       "    </tr>\n",
       "    <tr>\n",
       "      <th>intl.plan</th>\n",
       "      <td>5000.0</td>\n",
       "      <td>0.094600</td>\n",
       "      <td>0.292691</td>\n",
       "      <td>0.0</td>\n",
       "      <td>0.00</td>\n",
       "      <td>0.000</td>\n",
       "      <td>0.00</td>\n",
       "      <td>1.00</td>\n",
       "    </tr>\n",
       "  </tbody>\n",
       "</table>\n",
       "</div>"
      ],
      "text/plain": [
       "                 count        mean        std  min     25%      50%     75%  \\\n",
       "voice.messages  5000.0    7.755200  13.546393  0.0    0.00    0.000   17.00   \n",
       "intl.mins       5000.0   10.261780   2.761396  0.0    8.50   10.300   12.00   \n",
       "intl.calls      5000.0    4.435200   2.456788  0.0    3.00    4.000    6.00   \n",
       "intl.charge     5000.0    2.771196   0.745514  0.0    2.30    2.780    3.24   \n",
       "day.mins        5000.0  180.288900  53.894699  0.0  143.70  180.100  216.20   \n",
       "day.calls       5000.0  100.029400  19.831197  0.0   87.00  100.000  113.00   \n",
       "day.charge      5000.0   30.653501   9.159936  0.0   24.43   30.625   36.75   \n",
       "eve.mins        5000.0  200.580326  50.433135  0.0  166.60  200.800  233.90   \n",
       "eve.calls       5000.0  100.191000  19.826496  0.0   87.00  100.000  114.00   \n",
       "eve.charge      5000.0   17.054322   4.296843  0.0   14.14   17.090   19.90   \n",
       "night.mins      5000.0  200.391620  50.527789  0.0  166.90  200.400  234.70   \n",
       "night.calls     5000.0   99.919200  19.958686  0.0   87.00  100.000  113.00   \n",
       "night.charge    5000.0    9.017732   2.273763  0.0    7.51    9.020   10.56   \n",
       "customer.calls  5000.0    1.570400   1.306363  0.0    1.00    1.000    2.00   \n",
       "churn           5000.0    0.141400   0.348469  0.0    0.00    0.000    0.00   \n",
       "voice.plan      5000.0    0.264600   0.441164  0.0    0.00    0.000    1.00   \n",
       "intl.plan       5000.0    0.094600   0.292691  0.0    0.00    0.000    0.00   \n",
       "\n",
       "                   max  \n",
       "voice.messages   52.00  \n",
       "intl.mins        20.00  \n",
       "intl.calls       20.00  \n",
       "intl.charge       5.40  \n",
       "day.mins        351.50  \n",
       "day.calls       165.00  \n",
       "day.charge       59.76  \n",
       "eve.mins        363.70  \n",
       "eve.calls       170.00  \n",
       "eve.charge       30.91  \n",
       "night.mins      395.00  \n",
       "night.calls     175.00  \n",
       "night.charge     17.77  \n",
       "customer.calls    9.00  \n",
       "churn             1.00  \n",
       "voice.plan        1.00  \n",
       "intl.plan         1.00  "
      ]
     },
     "execution_count": 4,
     "metadata": {},
     "output_type": "execute_result"
    }
   ],
   "source": [
    "df.describe().T"
   ]
  },
  {
   "cell_type": "code",
   "execution_count": 5,
   "id": "6aed2a22",
   "metadata": {},
   "outputs": [
    {
     "data": {
      "text/plain": [
       "0    4293\n",
       "1     707\n",
       "Name: churn, dtype: int64"
      ]
     },
     "execution_count": 5,
     "metadata": {},
     "output_type": "execute_result"
    }
   ],
   "source": [
    "df['churn'].value_counts()"
   ]
  },
  {
   "cell_type": "markdown",
   "id": "3996bc21",
   "metadata": {},
   "source": [
    "    0  -> Not Churned  \n",
    "    1  -> Churned"
   ]
  },
  {
   "cell_type": "code",
   "execution_count": 6,
   "id": "315d551b",
   "metadata": {},
   "outputs": [],
   "source": [
    "X= df.drop('churn', axis =1)\n",
    "Y= df.churn"
   ]
  },
  {
   "cell_type": "code",
   "execution_count": 7,
   "id": "863d4cb6",
   "metadata": {
    "scrolled": true
   },
   "outputs": [
    {
     "name": "stdout",
     "output_type": "stream",
     "text": [
      "      voice.messages  intl.mins  intl.calls  intl.charge  day.mins  day.calls  \\\n",
      "0                 25       10.0           3         2.70     265.1        110   \n",
      "1                 26       13.7           3         3.70     161.6        123   \n",
      "2                  0       12.2           5         3.29     243.4        114   \n",
      "3                  0        6.6           7         1.78     299.4         71   \n",
      "4                  0       10.1           3         2.73     166.7        113   \n",
      "...              ...        ...         ...          ...       ...        ...   \n",
      "4995              40        9.9           5         2.67     235.7        127   \n",
      "4996               0       14.7           2         3.97     184.2         90   \n",
      "4997               0       13.6           4         3.67     140.6         89   \n",
      "4998               0        8.5           6         2.30     188.8         67   \n",
      "4999              34        9.3          16         2.51     129.4        102   \n",
      "\n",
      "      day.charge  eve.mins  eve.calls  eve.charge  night.mins  night.calls  \\\n",
      "0          45.07     197.4         99       16.78       244.7           91   \n",
      "1          27.47     195.5        103       16.62       254.4          103   \n",
      "2          41.38     121.2        110       10.30       162.6          104   \n",
      "3          50.90      61.9         88        5.26       196.9           89   \n",
      "4          28.34     148.3        122       12.61       186.9          121   \n",
      "...          ...       ...        ...         ...         ...          ...   \n",
      "4995       40.07     223.0        126       18.96       297.5          116   \n",
      "4996       31.31     256.8         73       21.83       213.6          113   \n",
      "4997       23.90     172.8        128       14.69       212.4           97   \n",
      "4998       32.10     171.7         92       14.59       224.4           89   \n",
      "4999       22.00     267.1        104       22.70       154.8          100   \n",
      "\n",
      "      night.charge  customer.calls  voice.plan  intl.plan  \n",
      "0            11.01               1           1          0  \n",
      "1            11.45               1           1          0  \n",
      "2             7.32               0           0          0  \n",
      "3             8.86               2           0          1  \n",
      "4             8.41               3           0          1  \n",
      "...            ...             ...         ...        ...  \n",
      "4995         13.39               2           1          0  \n",
      "4996          9.61               3           0          0  \n",
      "4997          9.56               1           0          0  \n",
      "4998         10.10               0           0          0  \n",
      "4999          6.97               0           1          0  \n",
      "\n",
      "[5000 rows x 16 columns]\n"
     ]
    }
   ],
   "source": [
    "print(X)"
   ]
  },
  {
   "cell_type": "code",
   "execution_count": 8,
   "id": "6bc66fd9",
   "metadata": {},
   "outputs": [
    {
     "name": "stdout",
     "output_type": "stream",
     "text": [
      "0       0\n",
      "1       0\n",
      "2       0\n",
      "3       0\n",
      "4       0\n",
      "       ..\n",
      "4995    0\n",
      "4996    1\n",
      "4997    0\n",
      "4998    0\n",
      "4999    0\n",
      "Name: churn, Length: 5000, dtype: int64\n"
     ]
    }
   ],
   "source": [
    "print(Y)"
   ]
  },
  {
   "cell_type": "markdown",
   "id": "d7313c2b",
   "metadata": {},
   "source": [
    "Splitting the data and performing OverSampling "
   ]
  },
  {
   "cell_type": "code",
   "execution_count": 9,
   "id": "a29c2b4b",
   "metadata": {},
   "outputs": [],
   "source": [
    "X_train, X_test, Y_train, Y_test = train_test_split(X,Y, test_size = 0.2, stratify=Y, random_state=2)"
   ]
  },
  {
   "cell_type": "code",
   "execution_count": 10,
   "id": "477a7e20",
   "metadata": {},
   "outputs": [],
   "source": [
    "RS=RandomOverSampler()\n",
    "X_train_rs, Y_train_rs = RS.fit_resample(X_train,Y_train)"
   ]
  },
  {
   "cell_type": "code",
   "execution_count": 11,
   "id": "70da767b",
   "metadata": {},
   "outputs": [
    {
     "name": "stdout",
     "output_type": "stream",
     "text": [
      "(5000, 16) (6868, 16) (1000, 16)\n"
     ]
    }
   ],
   "source": [
    "print(X.shape, X_train_rs.shape, X_test.shape)"
   ]
  },
  {
   "cell_type": "code",
   "execution_count": 12,
   "id": "9c87082c",
   "metadata": {},
   "outputs": [
    {
     "name": "stdout",
     "output_type": "stream",
     "text": [
      "(5000,) (6868,) (1000,)\n"
     ]
    }
   ],
   "source": [
    "print(Y.shape,Y_train_rs.shape,Y_test.shape)"
   ]
  },
  {
   "cell_type": "markdown",
   "id": "b69b7855",
   "metadata": {},
   "source": [
    "Training the Model "
   ]
  },
  {
   "cell_type": "code",
   "execution_count": 13,
   "id": "48706230",
   "metadata": {},
   "outputs": [],
   "source": [
    "RFC=RandomForestClassifier()"
   ]
  },
  {
   "cell_type": "code",
   "execution_count": 14,
   "id": "e34a3fef",
   "metadata": {},
   "outputs": [],
   "source": [
    "# training the Random Forest Cassifier \n",
    "model=RFC.fit(X_train_rs,Y_train_rs)"
   ]
  },
  {
   "cell_type": "markdown",
   "id": "3d4a4674",
   "metadata": {},
   "source": [
    "Model Evaluation "
   ]
  },
  {
   "cell_type": "code",
   "execution_count": 15,
   "id": "462771a7",
   "metadata": {},
   "outputs": [],
   "source": [
    "# accuracy score on the training data\n",
    "X_train_prediction = RFC.predict(X_train_rs)\n",
    "training_data_accuracy = accuracy_score(X_train_prediction, Y_train_rs)"
   ]
  },
  {
   "cell_type": "code",
   "execution_count": 16,
   "id": "d513a49f",
   "metadata": {},
   "outputs": [
    {
     "name": "stdout",
     "output_type": "stream",
     "text": [
      "Accuracy score of the training data :  1.0\n"
     ]
    }
   ],
   "source": [
    "print('Accuracy score of the training data : ', training_data_accuracy)"
   ]
  },
  {
   "cell_type": "code",
   "execution_count": 17,
   "id": "e02195f2",
   "metadata": {},
   "outputs": [],
   "source": [
    "# accuracy score on the test data\n",
    "X_test_prediction = RFC.predict(X_test)\n",
    "test_data_accuracy = accuracy_score(X_test_prediction, Y_test)"
   ]
  },
  {
   "cell_type": "code",
   "execution_count": 18,
   "id": "77d1c770",
   "metadata": {},
   "outputs": [
    {
     "name": "stdout",
     "output_type": "stream",
     "text": [
      "Accuracy score of the training data :  0.952\n"
     ]
    }
   ],
   "source": [
    "print('Accuracy score of the training data : ', test_data_accuracy)"
   ]
  },
  {
   "cell_type": "code",
   "execution_count": 19,
   "id": "85969b39",
   "metadata": {},
   "outputs": [
    {
     "name": "stdout",
     "output_type": "stream",
     "text": [
      "[0]\n",
      "The person has not churned\n"
     ]
    },
    {
     "name": "stderr",
     "output_type": "stream",
     "text": [
      "C:\\ProgramData\\Anaconda3\\lib\\site-packages\\sklearn\\base.py:450: UserWarning: X does not have valid feature names, but RandomForestClassifier was fitted with feature names\n",
      "  warnings.warn(\n"
     ]
    }
   ],
   "source": [
    "input_data = (30,10,3,2.5,250,120,35.5,195,100,16,220,95,10,4,1,1)\n",
    "\n",
    "# changing the input_data to numpy array\n",
    "input_data_as_numpy_array = np.asarray(input_data)\n",
    "\n",
    "# reshape the array as we are predicting for one instance\n",
    "input_data_reshaped = input_data_as_numpy_array.reshape(1,-1)\n",
    "\n",
    "prediction = RFC.predict(input_data_reshaped)\n",
    "print(prediction)\n",
    "\n",
    "if (prediction[0] == 0):\n",
    "  print('The person has not churned')\n",
    "else:\n",
    "  print('The person has churned')"
   ]
  },
  {
   "cell_type": "code",
   "execution_count": null,
   "id": "981e7bce",
   "metadata": {},
   "outputs": [],
   "source": []
  },
  {
   "cell_type": "markdown",
   "id": "78d6ff0d",
   "metadata": {},
   "source": [
    "Saving the Trained Model  "
   ]
  },
  {
   "cell_type": "code",
   "execution_count": 20,
   "id": "887393ba",
   "metadata": {},
   "outputs": [],
   "source": [
    "import pickle "
   ]
  },
  {
   "cell_type": "code",
   "execution_count": 21,
   "id": "27c55e1d",
   "metadata": {},
   "outputs": [],
   "source": [
    "filename = 'trained_model.sav'\n",
    "pickle.dump(RFC,open(filename,'wb')) "
   ]
  },
  {
   "cell_type": "code",
   "execution_count": 22,
   "id": "8677ec00",
   "metadata": {},
   "outputs": [],
   "source": [
    "# Loading the saved model \n",
    "loaded_model = pickle.load(open('trained_model.sav','rb'))"
   ]
  },
  {
   "cell_type": "code",
   "execution_count": 23,
   "id": "bc1a6e6e",
   "metadata": {},
   "outputs": [
    {
     "name": "stdout",
     "output_type": "stream",
     "text": [
      "[0]\n",
      "The person has not churned\n"
     ]
    },
    {
     "name": "stderr",
     "output_type": "stream",
     "text": [
      "C:\\ProgramData\\Anaconda3\\lib\\site-packages\\sklearn\\base.py:450: UserWarning: X does not have valid feature names, but RandomForestClassifier was fitted with feature names\n",
      "  warnings.warn(\n"
     ]
    }
   ],
   "source": [
    "input_data = (30,10,3,2.5,250,120,35.5,195,100,16,220,95,10,4,1,1)\n",
    "\n",
    "# changing the input_data to numpy array\n",
    "input_data_as_numpy_array = np.asarray(input_data)\n",
    "\n",
    "# reshape the array as we are predicting for one instance\n",
    "input_data_reshaped = input_data_as_numpy_array.reshape(1,-1)\n",
    "\n",
    "prediction = loaded_model.predict(input_data_reshaped)\n",
    "print(prediction)\n",
    "\n",
    "if (prediction[0] == 0):\n",
    "  print('The person has not churned')\n",
    "else:\n",
    "  print('The person has churned')"
   ]
  },
  {
   "cell_type": "code",
   "execution_count": null,
   "id": "5c8138fd",
   "metadata": {},
   "outputs": [],
   "source": []
  }
 ],
 "metadata": {
  "kernelspec": {
   "display_name": "Python 3 (ipykernel)",
   "language": "python",
   "name": "python3"
  },
  "language_info": {
   "codemirror_mode": {
    "name": "ipython",
    "version": 3
   },
   "file_extension": ".py",
   "mimetype": "text/x-python",
   "name": "python",
   "nbconvert_exporter": "python",
   "pygments_lexer": "ipython3",
   "version": "3.9.12"
  }
 },
 "nbformat": 4,
 "nbformat_minor": 5
}
